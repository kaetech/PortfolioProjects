{
 "cells": [
  {
   "cell_type": "markdown",
   "id": "01e1f4e0",
   "metadata": {},
   "source": [
    "# Automating Crypto Website API Pull"
   ]
  },
  {
   "cell_type": "code",
   "execution_count": null,
   "id": "19c3c969",
   "metadata": {},
   "outputs": [],
   "source": [
    "#Importing libraries and extracting data\n",
    "\n",
    "from requests import Request, Session\n",
    "from requests.exceptions import ConnectionError, Timeout, TooManyRedirects\n",
    "import json\n",
    "\n",
    "url = 'https://pro-api.coinmarketcap.com/v1/cryptocurrency/listings/latest'\n",
    "parameters = {\n",
    "  'start':'1',\n",
    "  'limit':'16',\n",
    "  'convert':'USD'\n",
    "}\n",
    "headers = {\n",
    "  'Accepts': 'application/json',\n",
    "  'X-CMC_PRO_API_KEY': '237779a3-04ce-4111-8588-568f3a625505',\n",
    "}\n",
    "\n",
    "session = Session()\n",
    "session.headers.update(headers)\n",
    "\n",
    "try:\n",
    "  response = session.get(url, params=parameters)\n",
    "  data = json.loads(response.text)\n",
    "  print(data)\n",
    "except (ConnectionError, Timeout, TooManyRedirects) as e:\n",
    "  print(e)"
   ]
  },
  {
   "cell_type": "code",
   "execution_count": null,
   "id": "22b9cdda",
   "metadata": {},
   "outputs": [],
   "source": [
    "#Importing pandas and displaying complete data frame\n",
    "\n",
    "import pandas as pd\n",
    "\n",
    "\n",
    "pd.set_option('display.max_columns', None)\n",
    "pd.set_option('dislay_max_rows', None)"
   ]
  },
  {
   "cell_type": "code",
   "execution_count": null,
   "id": "09fa878b",
   "metadata": {},
   "outputs": [],
   "source": [
    "#Making the extracted data readable\n",
    "\n",
    "df = pd.json_normalize(data['data'])\n",
    "df['timestamp'] = pd.to_datetime('now')\n",
    "df"
   ]
  },
  {
   "cell_type": "code",
   "execution_count": null,
   "id": "f56c6123",
   "metadata": {},
   "outputs": [],
   "source": [
    "#Creating function to pull data from site and load it into a new csv file, or add new data to csv if exists\n",
    "def api_runner():\n",
    "    global df\n",
    "    url = 'https://pro-api.coinmarketcap.com/v1/cryptocurrency/listings/latest'\n",
    "    parameters = {\n",
    "      'start':'1',\n",
    "      'limit':'16',\n",
    "      'convert':'USD'\n",
    "    }\n",
    "    headers = {\n",
    "      'Accepts': 'application/json',\n",
    "      'X-CMC_PRO_API_KEY': '237779a3-04ce-4111-8588-568f3a625505',\n",
    "    }\n",
    "\n",
    "    session = Session()\n",
    "    session.headers.update(headers)\n",
    "\n",
    "    try:\n",
    "      response = session.get(url, params=parameters)\n",
    "      data = json.loads(response.text)\n",
    "      #print(data)\n",
    "    except (ConnectionError, Timeout, TooManyRedirects) as e:\n",
    "      print(e)\n",
    "    \n",
    "    df = pd.json_normalize(data['data'])\n",
    "    df['timestamp'] = pd.to_datetime('now')\n",
    "    df\n",
    "    \n",
    "    if not os.path.isfile(r'C:\\Users\\KaeTech\\Python Basics\\API.csv')\n",
    "        df.to_csv(r'C:\\Users\\KaeTech\\Python Basics\\API.csv', header = 'column_names')\n",
    "    else:\n",
    "        df.to_csv(r'C:\\Users\\KaeTech\\Python Basics\\API.csv', mode = 'a', header = False)"
   ]
  },
  {
   "cell_type": "code",
   "execution_count": null,
   "id": "5add55fd",
   "metadata": {},
   "outputs": [],
   "source": [
    "#Importing libraries for and automation to run the previous function every minute\n",
    "\n",
    "import os\n",
    "from time import time \n",
    "from time import sleep\n",
    "\n",
    "for i in range(333):\n",
    "    api_runner()\n",
    "    print(\"API Runner Completed\")\n",
    "    sleep(60)\n",
    "exit()"
   ]
  },
  {
   "cell_type": "code",
   "execution_count": null,
   "id": "2f2e3feb",
   "metadata": {},
   "outputs": [],
   "source": [
    "#Testing if csv was created and works\n",
    "\n",
    "df3 = pd.read_csv(r'C:\\Users\\KaeTech\\Python Basics\\API.csv')\n",
    "df3"
   ]
  },
  {
   "cell_type": "code",
   "execution_count": null,
   "id": "fae145c8",
   "metadata": {},
   "outputs": [],
   "source": [
    "#Setting numerical data to 3 decimal places \n",
    "\n",
    "pd.set_option('display.float_format', lambda x: '%.3f' % x)\n",
    "df"
   ]
  },
  {
   "cell_type": "code",
   "execution_count": null,
   "id": "d1c616e3",
   "metadata": {},
   "outputs": [],
   "source": [
    "#Creating new data frame to check mean of data chasges over the past few minutes\n",
    "\n",
    "df4 = df.groupby('name', sort=False)[['quote.USD.percent_change_1h','quote.USD.percent_change_24h','quote.USD.percent_change_7d','quote.USD.percent_change_30d','quote.USD.percent_change_60d','quote.USD.percent_change_90d']].mean()"
   ]
  },
  {
   "cell_type": "code",
   "execution_count": null,
   "id": "5ef02efc",
   "metadata": {},
   "outputs": [],
   "source": [
    "#Creating data frame for better visual representation, resetting the index, and renaming colums\n",
    "df5 = df4.stack().to_frame(name='percentages').reset_index().rename(columns={'level_1': 'percent_change', 'percentages': 'values'})\n",
    "df5"
   ]
  },
  {
   "cell_type": "code",
   "execution_count": null,
   "id": "70ddd9c5",
   "metadata": {},
   "outputs": [],
   "source": [
    "#Renaminf row names in Percent Change Column \n",
    "\n",
    "df5['percent_change'] = df5['percent_change'].replace(['quote.USD.percent_change_1h','quote.USD.percent_change_24h','quote.USD.percent_change_7d','quote.USD.percent_change_30d','quote.USD.percent_change_60d','quote.USD.percent_change_90d'],['1h','24h','7d','30d','60d','90d'])"
   ]
  },
  {
   "cell_type": "code",
   "execution_count": null,
   "id": "eeb5f390",
   "metadata": {},
   "outputs": [],
   "source": [
    "#Plotting the data frame \n",
    "\n",
    "sns.catplot(x='percent_change', y='values', hue='name', data =df5, kind = 'point')"
   ]
  },
  {
   "cell_type": "code",
   "execution_count": null,
   "id": "92e7758f",
   "metadata": {},
   "outputs": [],
   "source": []
  },
  {
   "cell_type": "code",
   "execution_count": null,
   "id": "77aa5cbc",
   "metadata": {},
   "outputs": [],
   "source": []
  },
  {
   "cell_type": "code",
   "execution_count": null,
   "id": "8e7b9dbb",
   "metadata": {},
   "outputs": [],
   "source": []
  },
  {
   "cell_type": "code",
   "execution_count": null,
   "id": "565bd898",
   "metadata": {},
   "outputs": [],
   "source": []
  },
  {
   "cell_type": "code",
   "execution_count": null,
   "id": "c869ee8a",
   "metadata": {},
   "outputs": [],
   "source": []
  },
  {
   "cell_type": "code",
   "execution_count": null,
   "id": "741f3927",
   "metadata": {},
   "outputs": [],
   "source": []
  },
  {
   "cell_type": "code",
   "execution_count": null,
   "id": "bcabcef8",
   "metadata": {},
   "outputs": [],
   "source": []
  },
  {
   "cell_type": "code",
   "execution_count": null,
   "id": "b938a67d",
   "metadata": {},
   "outputs": [],
   "source": []
  }
 ],
 "metadata": {
  "kernelspec": {
   "display_name": "Python 3 (ipykernel)",
   "language": "python",
   "name": "python3"
  },
  "language_info": {
   "codemirror_mode": {
    "name": "ipython",
    "version": 3
   },
   "file_extension": ".py",
   "mimetype": "text/x-python",
   "name": "python",
   "nbconvert_exporter": "python",
   "pygments_lexer": "ipython3",
   "version": "3.11.5"
  }
 },
 "nbformat": 4,
 "nbformat_minor": 5
}
